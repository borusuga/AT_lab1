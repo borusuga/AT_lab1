{
 "cells": [
  {
   "cell_type": "code",
   "execution_count": 14,
   "metadata": {
    "collapsed": true
   },
   "outputs": [],
   "source": [
    "import numpy as np\n",
    "import pandas as pd\n",
    "import matplotlib.pyplot as plt\n",
    "%matplotlib inline"
   ]
  },
  {
   "cell_type": "code",
   "execution_count": 2,
   "outputs": [],
   "source": [
    "import time"
   ],
   "metadata": {
    "collapsed": false,
    "pycharm": {
     "name": "#%%\n"
    }
   }
  },
  {
   "cell_type": "code",
   "execution_count": 3,
   "outputs": [],
   "source": [
    "from Parsers import ParseSMC, ParseLeX, ParseRegex"
   ],
   "metadata": {
    "collapsed": false,
    "pycharm": {
     "name": "#%%\n"
    }
   }
  },
  {
   "cell_type": "code",
   "execution_count": 4,
   "outputs": [],
   "source": [
    "from stringGenerator import generate"
   ],
   "metadata": {
    "collapsed": false,
    "pycharm": {
     "name": "#%%\n"
    }
   }
  },
  {
   "cell_type": "code",
   "execution_count": 8,
   "outputs": [],
   "source": [
    "data = [[], [], []]"
   ],
   "metadata": {
    "collapsed": false,
    "pycharm": {
     "name": "#%%\n"
    }
   }
  },
  {
   "cell_type": "code",
   "execution_count": 9,
   "outputs": [],
   "source": [
    "test_dir = \"./data/\"\n",
    "for i in range(0, 1001, 100):\n",
    "    path = generate(test_dir, N=i, maxLen=100)\n",
    "    handler = open(path, 'r')\n",
    "    text = handler.read()\n",
    "    start = time.time_ns()\n",
    "    for s in text:\n",
    "        parser = ParseSMC.ParseSMC()\n",
    "        parser.parse(s)\n",
    "    end = time.time_ns()\n",
    "    data[0].append(end-start)\n",
    "\n",
    "    start = time.time_ns()\n",
    "    for s in text:\n",
    "        parser = ParseLeX.ParseLeX()\n",
    "        parser.build()\n",
    "        parser.parse(s)\n",
    "    end = time.time_ns()\n",
    "    data[1].append(end-start)\n",
    "\n",
    "    start = time.time_ns()\n",
    "    for s in text:\n",
    "        parser = ParseRegex.RegexParser()\n",
    "        parser.parse(s)\n",
    "    end = time.time_ns()\n",
    "    data[2].append(end-start)"
   ],
   "metadata": {
    "collapsed": false,
    "pycharm": {
     "name": "#%%\n"
    }
   }
  },
  {
   "cell_type": "code",
   "execution_count": 17,
   "outputs": [
    {
     "data": {
      "text/plain": "[[5000,\n  221618000,\n  154155000,\n  157458000,\n  238543000,\n  264299000,\n  343561000,\n  371210000,\n  422483000,\n  488021000,\n  591121000],\n [1000,\n  1811978000,\n  4248757000,\n  5462419000,\n  7270788000,\n  8978269000,\n  10983224000,\n  12476537000,\n  14685407000,\n  15960982000,\n  19641071000],\n [0,\n  10299000,\n  18077000,\n  26878000,\n  37794000,\n  44967000,\n  54154000,\n  63537000,\n  72916000,\n  92197000,\n  84850000]]"
     },
     "execution_count": 17,
     "metadata": {},
     "output_type": "execute_result"
    }
   ],
   "source": [
    "indexes = [i for i in range(0, 1001, 100)]\n",
    "data"
   ],
   "metadata": {
    "collapsed": false,
    "pycharm": {
     "name": "#%%\n"
    }
   }
  },
  {
   "cell_type": "code",
   "execution_count": 18,
   "outputs": [
    {
     "data": {
      "text/plain": "       0           100         200         300         400         500   \\\nsmc    5000   221618000   154155000   157458000   238543000   264299000   \nlex    1000  1811978000  4248757000  5462419000  7270788000  8978269000   \nregex     0    10299000    18077000    26878000    37794000    44967000   \n\n              600          700          800          900          1000  \nsmc      343561000    371210000    422483000    488021000    591121000  \nlex    10983224000  12476537000  14685407000  15960982000  19641071000  \nregex     54154000     63537000     72916000     92197000     84850000  ",
      "text/html": "<div>\n<style scoped>\n    .dataframe tbody tr th:only-of-type {\n        vertical-align: middle;\n    }\n\n    .dataframe tbody tr th {\n        vertical-align: top;\n    }\n\n    .dataframe thead th {\n        text-align: right;\n    }\n</style>\n<table border=\"1\" class=\"dataframe\">\n  <thead>\n    <tr style=\"text-align: right;\">\n      <th></th>\n      <th>0</th>\n      <th>100</th>\n      <th>200</th>\n      <th>300</th>\n      <th>400</th>\n      <th>500</th>\n      <th>600</th>\n      <th>700</th>\n      <th>800</th>\n      <th>900</th>\n      <th>1000</th>\n    </tr>\n  </thead>\n  <tbody>\n    <tr>\n      <th>smc</th>\n      <td>5000</td>\n      <td>221618000</td>\n      <td>154155000</td>\n      <td>157458000</td>\n      <td>238543000</td>\n      <td>264299000</td>\n      <td>343561000</td>\n      <td>371210000</td>\n      <td>422483000</td>\n      <td>488021000</td>\n      <td>591121000</td>\n    </tr>\n    <tr>\n      <th>lex</th>\n      <td>1000</td>\n      <td>1811978000</td>\n      <td>4248757000</td>\n      <td>5462419000</td>\n      <td>7270788000</td>\n      <td>8978269000</td>\n      <td>10983224000</td>\n      <td>12476537000</td>\n      <td>14685407000</td>\n      <td>15960982000</td>\n      <td>19641071000</td>\n    </tr>\n    <tr>\n      <th>regex</th>\n      <td>0</td>\n      <td>10299000</td>\n      <td>18077000</td>\n      <td>26878000</td>\n      <td>37794000</td>\n      <td>44967000</td>\n      <td>54154000</td>\n      <td>63537000</td>\n      <td>72916000</td>\n      <td>92197000</td>\n      <td>84850000</td>\n    </tr>\n  </tbody>\n</table>\n</div>"
     },
     "execution_count": 18,
     "metadata": {},
     "output_type": "execute_result"
    }
   ],
   "source": [
    "df = pd.DataFrame(data, columns=indexes, index=['smc', 'lex', 'regex'])\n",
    "df"
   ],
   "metadata": {
    "collapsed": false,
    "pycharm": {
     "name": "#%%\n"
    }
   }
  },
  {
   "cell_type": "code",
   "execution_count": 34,
   "outputs": [
    {
     "data": {
      "text/plain": "<bound method DataFrame.info of        0           100         200         300         400         500   \\\nsmc    5000   221618000   154155000   157458000   238543000   264299000   \nlex    1000  1811978000  4248757000  5462419000  7270788000  8978269000   \nregex     0    10299000    18077000    26878000    37794000    44967000   \n\n              600          700          800          900          1000  \nsmc      343561000    371210000    422483000    488021000    591121000  \nlex    10983224000  12476537000  14685407000  15960982000  19641071000  \nregex     54154000     63537000     72916000     92197000     84850000  >"
     },
     "execution_count": 34,
     "metadata": {},
     "output_type": "execute_result"
    }
   ],
   "source": [
    "df.info"
   ],
   "metadata": {
    "collapsed": false,
    "pycharm": {
     "name": "#%%\n"
    }
   }
  }
 ],
 "metadata": {
  "kernelspec": {
   "display_name": "Python 3",
   "language": "python",
   "name": "python3"
  },
  "language_info": {
   "codemirror_mode": {
    "name": "ipython",
    "version": 2
   },
   "file_extension": ".py",
   "mimetype": "text/x-python",
   "name": "python",
   "nbconvert_exporter": "python",
   "pygments_lexer": "ipython2",
   "version": "2.7.6"
  }
 },
 "nbformat": 4,
 "nbformat_minor": 0
}
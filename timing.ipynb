{
 "cells": [
  {
   "cell_type": "code",
   "execution_count": 3,
   "metadata": {
    "collapsed": true
   },
   "outputs": [],
   "source": [
    "import numpy as np\n",
    "import pandas as pd\n",
    "import matplotlib.pyplot as plt\n",
    "%matplotlib inline"
   ]
  },
  {
   "cell_type": "code",
   "execution_count": 4,
   "outputs": [],
   "source": [
    "import time"
   ],
   "metadata": {
    "collapsed": false,
    "pycharm": {
     "name": "#%%\n"
    }
   }
  },
  {
   "cell_type": "code",
   "execution_count": 5,
   "outputs": [],
   "source": [
    "from Parsers import ParseSMC, ParseLeX, ParseRegex"
   ],
   "metadata": {
    "collapsed": false,
    "pycharm": {
     "name": "#%%\n"
    }
   }
  },
  {
   "cell_type": "code",
   "execution_count": 6,
   "outputs": [],
   "source": [
    "from stringGenerator import generate"
   ],
   "metadata": {
    "collapsed": false,
    "pycharm": {
     "name": "#%%\n"
    }
   }
  },
  {
   "cell_type": "code",
   "execution_count": 14,
   "outputs": [],
   "source": [
    "data = [[], [], []]\n",
    "file_paths = []"
   ],
   "metadata": {
    "collapsed": false,
    "pycharm": {
     "name": "#%%\n"
    }
   }
  },
  {
   "cell_type": "code",
   "execution_count": 15,
   "outputs": [],
   "source": [
    "# добавить тест для длины\n",
    "test_dir = \"./data/lines/\"\n",
    "for i in range(0, 1001, 100):\n",
    "    path = generate(test_dir, N=i, maxLen=100)\n",
    "    file_paths.append(path)"
   ],
   "metadata": {
    "collapsed": false,
    "pycharm": {
     "name": "#%%\n"
    }
   }
  },
  {
   "cell_type": "code",
   "execution_count": 16,
   "outputs": [],
   "source": [
    "for path in file_paths:\n",
    "    handler = open(path, 'r')\n",
    "    text = handler.read()\n",
    "    start = time.time_ns()\n",
    "    for s in text:\n",
    "        parser = ParseSMC.ParseSMC()\n",
    "        parser.parse(s)\n",
    "    end = time.time_ns()\n",
    "    data[0].append(end-start)\n",
    "\n",
    "    start = time.time_ns()\n",
    "    for s in text:\n",
    "        parser = ParseLeX.ParseLeX()\n",
    "        parser.build()\n",
    "        parser.parse(s)\n",
    "    end = time.time_ns()\n",
    "    data[1].append(end-start)\n",
    "\n",
    "    start = time.time_ns()\n",
    "    for s in text:\n",
    "        parser = ParseRegex.RegexParser()\n",
    "        parser.parse(s)\n",
    "    end = time.time_ns()\n",
    "    data[2].append(end-start)\n",
    "    handler.close()"
   ],
   "metadata": {
    "collapsed": false,
    "pycharm": {
     "name": "#%%\n"
    }
   }
  },
  {
   "cell_type": "code",
   "execution_count": 17,
   "outputs": [
    {
     "data": {
      "text/plain": "[[2000,\n  106432000,\n  112119000,\n  165981000,\n  216544000,\n  260933000,\n  315542000,\n  374654000,\n  413202000,\n  476386000,\n  514682000],\n [0,\n  1846993000,\n  3493612000,\n  5276837000,\n  7610793000,\n  8750098000,\n  10412519000,\n  13548585000,\n  13615280000,\n  15674405000,\n  17104061000],\n [0,\n  10757000,\n  19982000,\n  26978000,\n  37206000,\n  43941000,\n  54235000,\n  65348000,\n  72149000,\n  82091000,\n  88937000]]"
     },
     "execution_count": 17,
     "metadata": {},
     "output_type": "execute_result"
    }
   ],
   "source": [
    "indexes = [i for i in range(0, 1001, 100)]\n",
    "data"
   ],
   "metadata": {
    "collapsed": false,
    "pycharm": {
     "name": "#%%\n"
    }
   }
  },
  {
   "cell_type": "code",
   "execution_count": 18,
   "outputs": [
    {
     "data": {
      "text/plain": "       0           100         200         300         400         500   \\\nsmc    2000   106432000   112119000   165981000   216544000   260933000   \nlex       0  1846993000  3493612000  5276837000  7610793000  8750098000   \nregex     0    10757000    19982000    26978000    37206000    43941000   \n\n              600          700          800          900          1000  \nsmc      315542000    374654000    413202000    476386000    514682000  \nlex    10412519000  13548585000  13615280000  15674405000  17104061000  \nregex     54235000     65348000     72149000     82091000     88937000  ",
      "text/html": "<div>\n<style scoped>\n    .dataframe tbody tr th:only-of-type {\n        vertical-align: middle;\n    }\n\n    .dataframe tbody tr th {\n        vertical-align: top;\n    }\n\n    .dataframe thead th {\n        text-align: right;\n    }\n</style>\n<table border=\"1\" class=\"dataframe\">\n  <thead>\n    <tr style=\"text-align: right;\">\n      <th></th>\n      <th>0</th>\n      <th>100</th>\n      <th>200</th>\n      <th>300</th>\n      <th>400</th>\n      <th>500</th>\n      <th>600</th>\n      <th>700</th>\n      <th>800</th>\n      <th>900</th>\n      <th>1000</th>\n    </tr>\n  </thead>\n  <tbody>\n    <tr>\n      <th>smc</th>\n      <td>2000</td>\n      <td>106432000</td>\n      <td>112119000</td>\n      <td>165981000</td>\n      <td>216544000</td>\n      <td>260933000</td>\n      <td>315542000</td>\n      <td>374654000</td>\n      <td>413202000</td>\n      <td>476386000</td>\n      <td>514682000</td>\n    </tr>\n    <tr>\n      <th>lex</th>\n      <td>0</td>\n      <td>1846993000</td>\n      <td>3493612000</td>\n      <td>5276837000</td>\n      <td>7610793000</td>\n      <td>8750098000</td>\n      <td>10412519000</td>\n      <td>13548585000</td>\n      <td>13615280000</td>\n      <td>15674405000</td>\n      <td>17104061000</td>\n    </tr>\n    <tr>\n      <th>regex</th>\n      <td>0</td>\n      <td>10757000</td>\n      <td>19982000</td>\n      <td>26978000</td>\n      <td>37206000</td>\n      <td>43941000</td>\n      <td>54235000</td>\n      <td>65348000</td>\n      <td>72149000</td>\n      <td>82091000</td>\n      <td>88937000</td>\n    </tr>\n  </tbody>\n</table>\n</div>"
     },
     "execution_count": 18,
     "metadata": {},
     "output_type": "execute_result"
    }
   ],
   "source": [
    "df = pd.DataFrame(data, columns=indexes, index=['smc', 'lex', 'regex'])\n",
    "df"
   ],
   "metadata": {
    "collapsed": false,
    "pycharm": {
     "name": "#%%\n"
    }
   }
  },
  {
   "cell_type": "code",
   "execution_count": 20,
   "outputs": [],
   "source": [
    "data2 = [[], [], []]\n",
    "file_paths2 = []"
   ],
   "metadata": {
    "collapsed": false,
    "pycharm": {
     "name": "#%%\n"
    }
   }
  },
  {
   "cell_type": "code",
   "execution_count": 21,
   "outputs": [],
   "source": [
    "test_dir = \"./data/length/\"\n",
    "for i in range(10, 101, 10):\n",
    "    path = generate(test_dir, N=1000, maxLen=i)\n",
    "    file_paths2.append(path)"
   ],
   "metadata": {
    "collapsed": false,
    "pycharm": {
     "name": "#%%\n"
    }
   }
  },
  {
   "cell_type": "code",
   "execution_count": 24,
   "outputs": [],
   "source": [
    "for path in file_paths2:\n",
    "    handler = open(path, 'r')\n",
    "    text = handler.read()\n",
    "    start = time.time_ns()\n",
    "    for s in text:\n",
    "        parser = ParseSMC.ParseSMC()\n",
    "        parser.parse(s)\n",
    "    end = time.time_ns()\n",
    "    data2[0].append(end-start)\n",
    "\n",
    "    start = time.time_ns()\n",
    "    for s in text:\n",
    "        parser = ParseLeX.ParseLeX()\n",
    "        parser.build()\n",
    "        parser.parse(s)\n",
    "    end = time.time_ns()\n",
    "    data2[1].append(end-start)\n",
    "\n",
    "    start = time.time_ns()\n",
    "    for s in text:\n",
    "        parser = ParseRegex.RegexParser()\n",
    "        parser.parse(s)\n",
    "    end = time.time_ns()\n",
    "    data2[2].append(end-start)"
   ],
   "metadata": {
    "collapsed": false,
    "pycharm": {
     "name": "#%%\n"
    }
   }
  },
  {
   "cell_type": "code",
   "execution_count": 28,
   "outputs": [
    {
     "data": {
      "text/plain": "[[111853000,\n  126620000,\n  149838000,\n  200877000,\n  242389000,\n  312389000,\n  399924000,\n  422494000,\n  590848000,\n  622775000],\n [3267951000,\n  4460357000,\n  5385429000,\n  7363027000,\n  8601717000,\n  10535360000,\n  13092876000,\n  14715303000,\n  17127953000,\n  19218601000],\n [16790000,\n  21454000,\n  27355000,\n  33379000,\n  40843000,\n  58452000,\n  66414000,\n  73298000,\n  98433000,\n  92712000]]"
     },
     "execution_count": 28,
     "metadata": {},
     "output_type": "execute_result"
    }
   ],
   "source": [
    "indexes = [i for i in range(10, 101, 10)]\n",
    "data2"
   ],
   "metadata": {
    "collapsed": false,
    "pycharm": {
     "name": "#%%\n"
    }
   }
  },
  {
   "cell_type": "code",
   "execution_count": 29,
   "outputs": [
    {
     "data": {
      "text/plain": "              10          20          30          40          50   \\\nsmc     111853000   126620000   149838000   200877000   242389000   \nlex    3267951000  4460357000  5385429000  7363027000  8601717000   \nregex    16790000    21454000    27355000    33379000    40843000   \n\n               60           70           80           90           100  \nsmc      312389000    399924000    422494000    590848000    622775000  \nlex    10535360000  13092876000  14715303000  17127953000  19218601000  \nregex     58452000     66414000     73298000     98433000     92712000  ",
      "text/html": "<div>\n<style scoped>\n    .dataframe tbody tr th:only-of-type {\n        vertical-align: middle;\n    }\n\n    .dataframe tbody tr th {\n        vertical-align: top;\n    }\n\n    .dataframe thead th {\n        text-align: right;\n    }\n</style>\n<table border=\"1\" class=\"dataframe\">\n  <thead>\n    <tr style=\"text-align: right;\">\n      <th></th>\n      <th>10</th>\n      <th>20</th>\n      <th>30</th>\n      <th>40</th>\n      <th>50</th>\n      <th>60</th>\n      <th>70</th>\n      <th>80</th>\n      <th>90</th>\n      <th>100</th>\n    </tr>\n  </thead>\n  <tbody>\n    <tr>\n      <th>smc</th>\n      <td>111853000</td>\n      <td>126620000</td>\n      <td>149838000</td>\n      <td>200877000</td>\n      <td>242389000</td>\n      <td>312389000</td>\n      <td>399924000</td>\n      <td>422494000</td>\n      <td>590848000</td>\n      <td>622775000</td>\n    </tr>\n    <tr>\n      <th>lex</th>\n      <td>3267951000</td>\n      <td>4460357000</td>\n      <td>5385429000</td>\n      <td>7363027000</td>\n      <td>8601717000</td>\n      <td>10535360000</td>\n      <td>13092876000</td>\n      <td>14715303000</td>\n      <td>17127953000</td>\n      <td>19218601000</td>\n    </tr>\n    <tr>\n      <th>regex</th>\n      <td>16790000</td>\n      <td>21454000</td>\n      <td>27355000</td>\n      <td>33379000</td>\n      <td>40843000</td>\n      <td>58452000</td>\n      <td>66414000</td>\n      <td>73298000</td>\n      <td>98433000</td>\n      <td>92712000</td>\n    </tr>\n  </tbody>\n</table>\n</div>"
     },
     "execution_count": 29,
     "metadata": {},
     "output_type": "execute_result"
    }
   ],
   "source": [
    "df2 = pd.DataFrame(data2, columns=indexes, index=['smc', 'lex', 'regex'])\n",
    "df2"
   ],
   "metadata": {
    "collapsed": false,
    "pycharm": {
     "name": "#%%\n"
    }
   }
  }
 ],
 "metadata": {
  "kernelspec": {
   "display_name": "Python 3",
   "language": "python",
   "name": "python3"
  },
  "language_info": {
   "codemirror_mode": {
    "name": "ipython",
    "version": 2
   },
   "file_extension": ".py",
   "mimetype": "text/x-python",
   "name": "python",
   "nbconvert_exporter": "python",
   "pygments_lexer": "ipython2",
   "version": "2.7.6"
  }
 },
 "nbformat": 4,
 "nbformat_minor": 0
}